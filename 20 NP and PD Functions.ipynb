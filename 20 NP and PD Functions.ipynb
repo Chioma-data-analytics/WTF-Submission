{
 "cells": [
  {
   "cell_type": "markdown",
   "id": "02d5b3b5",
   "metadata": {},
   "source": [
    "# 20 inbuilt functions/methods in Numpy"
   ]
  },
  {
   "cell_type": "code",
   "execution_count": 6,
   "id": "f23ff260",
   "metadata": {},
   "outputs": [],
   "source": [
    "import numpy as np\n",
    "import pandas as pd"
   ]
  },
  {
   "cell_type": "markdown",
   "id": "0d718858",
   "metadata": {},
   "source": [
    "# 1. array()"
   ]
  },
  {
   "cell_type": "markdown",
   "id": "5cfc5b7b",
   "metadata": {},
   "source": [
    "***Syntax(object, dtype=None, *, copy=True, order='K', subok=False, ndmin=0)\n",
    "\n",
    "Parameters = \n",
    "Object is compulsory, there must be an object in creating array, while other parameters are optional\n",
    "\n",
    "Object can be list or tuple, with single list or tuple, it creates 1-dimensional array, with Nested list (2 or more list) u create 2 or 3 dimensional array"
   ]
  },
  {
   "cell_type": "code",
   "execution_count": 26,
   "id": "93b6fd44",
   "metadata": {
    "scrolled": true
   },
   "outputs": [
    {
     "name": "stdout",
     "output_type": "stream",
     "text": [
      "10\n"
     ]
    }
   ],
   "source": [
    "# 1-Dimensional Array with tuple\n",
    "a = np.array(10)\n",
    "print(a)"
   ]
  },
  {
   "cell_type": "code",
   "execution_count": 18,
   "id": "572639ef",
   "metadata": {},
   "outputs": [
    {
     "data": {
      "text/plain": [
       "array([1, 2, 3])"
      ]
     },
     "execution_count": 18,
     "metadata": {},
     "output_type": "execute_result"
    }
   ],
   "source": [
    "np.array([1,2,3])"
   ]
  },
  {
   "cell_type": "code",
   "execution_count": null,
   "id": "7c1b0191",
   "metadata": {},
   "outputs": [],
   "source": [
    "np.ar"
   ]
  },
  {
   "cell_type": "code",
   "execution_count": 4,
   "id": "16a04916",
   "metadata": {},
   "outputs": [
    {
     "name": "stdout",
     "output_type": "stream",
     "text": [
      "[[1.+0.j 2.+0.j 3.+0.j]\n",
      " [4.+0.j 5.+0.j 6.+0.j]]\n"
     ]
    }
   ],
   "source": [
    "# 2-D Array with Nested list and Datatype\n",
    "\n",
    "a = np.array([[1,2,3],[4,5,6]],dtype=complex)\n",
    "print(a)"
   ]
  },
  {
   "cell_type": "code",
   "execution_count": 8,
   "id": "33769e25",
   "metadata": {},
   "outputs": [
    {
     "name": "stdout",
     "output_type": "stream",
     "text": [
      "5\n"
     ]
    }
   ],
   "source": [
    "# finding Dimension of a given array\n",
    "\n",
    "a = np.array([[[[[1,2,3],[4,5,6],[7,8,9]]]]])\n",
    "print(a.ndim)"
   ]
  },
  {
   "cell_type": "markdown",
   "id": "846d26e3",
   "metadata": {},
   "source": [
    "# 2. linspace \n"
   ]
  },
  {
   "cell_type": "markdown",
   "id": "230308db",
   "metadata": {},
   "source": [
    "Linspace generates evenly spaced numbers of a specified interval. By default, there is start and stop numbers, \n",
    "\n",
    "the \"num = 50\" default parameters which is number of values generated in the array. \n",
    "\n",
    "the the \"endpoint\" parameter which could be True or False. \n",
    "\n",
    "the \"retstep\" parameter which return the even space numbers BETWEEN values. \n",
    "\n",
    "the \"dtype\" parameter gives the datatype of the numbers in the array."
   ]
  },
  {
   "cell_type": "code",
   "execution_count": 10,
   "id": "b54baa84",
   "metadata": {},
   "outputs": [
    {
     "data": {
      "text/plain": [
       "array([ 3.        ,  3.14285714,  3.28571429,  3.42857143,  3.57142857,\n",
       "        3.71428571,  3.85714286,  4.        ,  4.14285714,  4.28571429,\n",
       "        4.42857143,  4.57142857,  4.71428571,  4.85714286,  5.        ,\n",
       "        5.14285714,  5.28571429,  5.42857143,  5.57142857,  5.71428571,\n",
       "        5.85714286,  6.        ,  6.14285714,  6.28571429,  6.42857143,\n",
       "        6.57142857,  6.71428571,  6.85714286,  7.        ,  7.14285714,\n",
       "        7.28571429,  7.42857143,  7.57142857,  7.71428571,  7.85714286,\n",
       "        8.        ,  8.14285714,  8.28571429,  8.42857143,  8.57142857,\n",
       "        8.71428571,  8.85714286,  9.        ,  9.14285714,  9.28571429,\n",
       "        9.42857143,  9.57142857,  9.71428571,  9.85714286, 10.        ])"
      ]
     },
     "execution_count": 10,
     "metadata": {},
     "output_type": "execute_result"
    }
   ],
   "source": [
    "# By default, linspace has a value of 50 numbers\n",
    "\n",
    "np.linspace(3,10)"
   ]
  },
  {
   "cell_type": "code",
   "execution_count": 10,
   "id": "8c89bbaf",
   "metadata": {},
   "outputs": [
    {
     "data": {
      "text/plain": [
       "array([ 1.  , 13.25, 25.5 , 37.75, 50.  ])"
      ]
     },
     "execution_count": 10,
     "metadata": {},
     "output_type": "execute_result"
    }
   ],
   "source": [
    "#using the \"step\" parameter of how many numbers to be included in the array\n",
    "# by default, the endpoint is included\n",
    "\n",
    "np.linspace(1,50,5)"
   ]
  },
  {
   "cell_type": "code",
   "execution_count": 11,
   "id": "982e5b4a",
   "metadata": {
    "scrolled": true
   },
   "outputs": [
    {
     "name": "stdout",
     "output_type": "stream",
     "text": [
      "[  2.   9.  16.  23.  30.  37.  44.  51.  58.  65.  72.  79.  86.  93.\n",
      " 100.]\n"
     ]
    }
   ],
   "source": [
    "step = np.linspace(2,100, num = 15)  #by default, the endpoint/stop value is included\n",
    "print(step)"
   ]
  },
  {
   "cell_type": "code",
   "execution_count": 18,
   "id": "56313caf",
   "metadata": {
    "scrolled": false
   },
   "outputs": [
    {
     "name": "stdout",
     "output_type": "stream",
     "text": [
      "(array([ 1.   ,  3.475,  5.95 ,  8.425, 10.9  , 13.375, 15.85 , 18.325,\n",
      "       20.8  , 23.275, 25.75 , 28.225, 30.7  , 33.175, 35.65 , 38.125,\n",
      "       40.6  , 43.075, 45.55 , 48.025, 50.5  , 52.975, 55.45 , 57.925,\n",
      "       60.4  , 62.875, 65.35 , 67.825, 70.3  , 72.775, 75.25 , 77.725,\n",
      "       80.2  , 82.675, 85.15 , 87.625, 90.1  , 92.575, 95.05 , 97.525]), 2.475)\n"
     ]
    }
   ],
   "source": [
    "# the endpoint, dtype\n",
    "step = np.linspace(1,100,40, endpoint=False, retstep=True, dtype=float)\n",
    "print(step)"
   ]
  },
  {
   "cell_type": "code",
   "execution_count": null,
   "id": "ceef49c0",
   "metadata": {},
   "outputs": [],
   "source": [
    "np.linspace"
   ]
  },
  {
   "cell_type": "markdown",
   "id": "ecbb84ea",
   "metadata": {},
   "source": [
    "#  3. mean()"
   ]
  },
  {
   "cell_type": "code",
   "execution_count": null,
   "id": "e4b8d166",
   "metadata": {},
   "outputs": [],
   "source": [
    "np.mean"
   ]
  },
  {
   "cell_type": "code",
   "execution_count": 2,
   "id": "4a83fae4",
   "metadata": {},
   "outputs": [
    {
     "data": {
      "text/plain": [
       "3.5"
      ]
     },
     "execution_count": 2,
     "metadata": {},
     "output_type": "execute_result"
    }
   ],
   "source": [
    "t = np.array([[1,2,3], [4,5,6]])\n",
    "np.mean(t)"
   ]
  },
  {
   "cell_type": "markdown",
   "id": "eea86e38",
   "metadata": {},
   "source": [
    "# 4. replace"
   ]
  },
  {
   "cell_type": "code",
   "execution_count": 16,
   "id": "d88675c8",
   "metadata": {},
   "outputs": [
    {
     "data": {
      "text/plain": [
       "'my name is Ada'"
      ]
     },
     "execution_count": 16,
     "metadata": {},
     "output_type": "execute_result"
    }
   ],
   "source": [
    "Data = \"my name is Obi\"\n",
    "Data.replace(\"Obi\", \"Ada\")"
   ]
  },
  {
   "cell_type": "code",
   "execution_count": null,
   "id": "4a55eb56",
   "metadata": {},
   "outputs": [],
   "source": []
  },
  {
   "cell_type": "markdown",
   "id": "51db5526",
   "metadata": {},
   "source": [
    "# 5. absolute"
   ]
  },
  {
   "cell_type": "code",
   "execution_count": 3,
   "id": "8b2dd532",
   "metadata": {},
   "outputs": [
    {
     "data": {
      "text/plain": [
       "array([1.2, 1.2])"
      ]
     },
     "execution_count": 3,
     "metadata": {},
     "output_type": "execute_result"
    }
   ],
   "source": [
    "x = np.array([-1.2, 1.2])\n",
    "np.absolute(x)"
   ]
  },
  {
   "cell_type": "code",
   "execution_count": 22,
   "id": "96ac0e09",
   "metadata": {},
   "outputs": [],
   "source": [
    "import matplotlib.pyplot as plt"
   ]
  },
  {
   "cell_type": "code",
   "execution_count": 35,
   "id": "749328a0",
   "metadata": {
    "scrolled": true
   },
   "outputs": [
    {
     "data": {
      "image/png": "[encoded data removed]",
      "text/plain": [
       "<Figure size 432x288 with 1 Axes>"
      ]
     },
     "metadata": {
      "needs_background": "light"
     },
     "output_type": "display_data"
    }
   ],
   "source": [
    "#Plot the function over ``[-10, 5]``:\n",
    "# two functions linspace and absolute combined in one line of code\n",
    "\n",
    "x = np.linspace(start=-10, stop=5, num=9)\n",
    "plt.plot(x, np.absolute(x), color = \"red\", marker = \"+\")\n",
    "plt.show()"
   ]
  },
  {
   "cell_type": "code",
   "execution_count": null,
   "id": "4dec83f1",
   "metadata": {},
   "outputs": [],
   "source": [
    "np.absolute"
   ]
  },
  {
   "cell_type": "markdown",
   "id": "30332dd2",
   "metadata": {},
   "source": [
    "# 6. random"
   ]
  },
  {
   "cell_type": "code",
   "execution_count": null,
   "id": "6444c09f",
   "metadata": {},
   "outputs": [],
   "source": [
    "np.random"
   ]
  },
  {
   "cell_type": "markdown",
   "id": "4f685248",
   "metadata": {},
   "source": [
    "# 7. append\n",
    "np.append"
   ]
  },
  {
   "cell_type": "code",
   "execution_count": 4,
   "id": "85dfd41a",
   "metadata": {},
   "outputs": [
    {
     "data": {
      "text/plain": [
       "array([1, 2, 3, 4, 5, 6, 7, 8, 9])"
      ]
     },
     "execution_count": 4,
     "metadata": {},
     "output_type": "execute_result"
    }
   ],
   "source": [
    "np.append([1, 2, 3], [[4, 5, 6], [7, 8, 9]])"
   ]
  },
  {
   "cell_type": "code",
   "execution_count": 8,
   "id": "0b83bfd6",
   "metadata": {},
   "outputs": [
    {
     "data": {
      "text/plain": [
       "array([[1, 2, 3],\n",
       "       [4, 5, 6],\n",
       "       [7, 8, 9]])"
      ]
     },
     "execution_count": 8,
     "metadata": {},
     "output_type": "execute_result"
    }
   ],
   "source": [
    "#When `axis` is specified, `values` must have the correct shape.\n",
    "\n",
    "np.append([[1, 2, 3], [4, 5, 6]], [[7, 8, 9]], axis=0)"
   ]
  },
  {
   "cell_type": "markdown",
   "id": "e8a428c2",
   "metadata": {},
   "source": [
    "# 8. split"
   ]
  },
  {
   "cell_type": "code",
   "execution_count": 10,
   "id": "00ff0d36",
   "metadata": {},
   "outputs": [
    {
     "data": {
      "text/plain": [
       "[array([0., 1., 2.]), array([3., 4., 5.]), array([6., 7.])]"
      ]
     },
     "execution_count": 10,
     "metadata": {},
     "output_type": "execute_result"
    }
   ],
   "source": [
    "x = np.arange(8.0)\n",
    "np.array_split(x, 3)\n",
    "\n"
   ]
  },
  {
   "cell_type": "code",
   "execution_count": 11,
   "id": "79fa0829",
   "metadata": {},
   "outputs": [
    {
     "data": {
      "text/plain": [
       "[array([0, 1, 2]), array([3, 4]), array([5, 6]), array([7, 8])]"
      ]
     },
     "execution_count": 11,
     "metadata": {},
     "output_type": "execute_result"
    }
   ],
   "source": [
    "b = np.arange(9)\n",
    "np.array_split(b, 4)"
   ]
  },
  {
   "cell_type": "markdown",
   "id": "b756a4be",
   "metadata": {},
   "source": [
    "# 9. max"
   ]
  },
  {
   "cell_type": "code",
   "execution_count": null,
   "id": "02a2149e",
   "metadata": {},
   "outputs": [],
   "source": [
    "# This returns the maximum of an array\n",
    "np.max"
   ]
  },
  {
   "cell_type": "code",
   "execution_count": 20,
   "id": "0d3e0428",
   "metadata": {
    "scrolled": true
   },
   "outputs": [
    {
     "data": {
      "text/plain": [
       "array([[0, 1],\n",
       "       [2, 3]])"
      ]
     },
     "execution_count": 20,
     "metadata": {},
     "output_type": "execute_result"
    }
   ],
   "source": [
    "data = np.arange(4).reshape((2,2))\n",
    "data"
   ]
  },
  {
   "cell_type": "code",
   "execution_count": 14,
   "id": "580bf760",
   "metadata": {
    "scrolled": true
   },
   "outputs": [
    {
     "data": {
      "text/plain": [
       "3"
      ]
     },
     "execution_count": 14,
     "metadata": {},
     "output_type": "execute_result"
    }
   ],
   "source": [
    "np.max(data)"
   ]
  },
  {
   "cell_type": "code",
   "execution_count": 21,
   "id": "28b28c60",
   "metadata": {},
   "outputs": [
    {
     "data": {
      "text/plain": [
       "array([ 0, 10])"
      ]
     },
     "execution_count": 21,
     "metadata": {},
     "output_type": "execute_result"
    }
   ],
   "source": [
    "#You can use an initial value to compute the maximum of an empty slice, or to initialize it to a different value:\n",
    "\n",
    "np.max([[-50], [10]], axis=-1, initial=0)"
   ]
  },
  {
   "cell_type": "code",
   "execution_count": 2,
   "id": "64483515",
   "metadata": {},
   "outputs": [
    {
     "data": {
      "text/plain": [
       "array([ 0, 10])"
      ]
     },
     "execution_count": 2,
     "metadata": {},
     "output_type": "execute_result"
    }
   ],
   "source": [
    "np.max([[-50], [10]], axis=-1, initial=0)"
   ]
  },
  {
   "cell_type": "code",
   "execution_count": null,
   "id": "dd1c85dd",
   "metadata": {},
   "outputs": [],
   "source": [
    "#PLEASE IGNORE THIS LINE OF CODE \n",
    "# This returns the maximum of an array\n",
    "np.amax(a, axis=0)   # Maxima along the first axis\n",
    "array([2, 3])\n",
    "np.amax(a, axis=1)   # Maxima along the second axis\n",
    "array([1, 3])\n",
    "np.amax(a, where=[False, True], initial=-1, axis=0)\n",
    "array([-1,  3])\n",
    "b = np.arange(5, dtype=float)\n",
    "b[2] = np.NaN\n",
    "np.amax(b)\n",
    "nan\n",
    "np.amax(b, where=~np.isnan(b), initial=-1)\n",
    "4.0\n",
    "np.nanmax(b)\n",
    "4.0\n",
    "\n",
    "You can use an initial value to compute the maximum of an empty slice, or\n",
    "to initialize it to a different value:\n",
    "\n",
    "\n",
    "array([ 0, 10])\n",
    "\n",
    "Notice that the initial value is used as one of the elements for which the\n",
    "maximum is determined, unlike for the default argument Python's max\n",
    "function, which is only used for empty iterables.\n",
    "\n",
    "np.max([5], initial=6)\n",
    "6\n",
    "max([5], default=6)"
   ]
  },
  {
   "cell_type": "markdown",
   "id": "6227124d",
   "metadata": {},
   "source": [
    "# 10. diff"
   ]
  },
  {
   "cell_type": "code",
   "execution_count": 153,
   "id": "678a2c69",
   "metadata": {},
   "outputs": [
    {
     "data": {
      "text/plain": [
       "array([ 1,  2,  3, -7])"
      ]
     },
     "execution_count": 153,
     "metadata": {},
     "output_type": "execute_result"
    }
   ],
   "source": [
    "np.diff\n",
    "d = np.array([1, 2, 4, 7, 0])\n",
    "np.diff(d)"
   ]
  },
  {
   "cell_type": "code",
   "execution_count": 24,
   "id": "affe84c6",
   "metadata": {},
   "outputs": [
    {
     "data": {
      "text/plain": [
       "array([0., 0., 0., 0., 0., 0.])"
      ]
     },
     "execution_count": 24,
     "metadata": {},
     "output_type": "execute_result"
    }
   ],
   "source": [
    "np.diff(d, n=2)"
   ]
  },
  {
   "cell_type": "code",
   "execution_count": 26,
   "id": "5e8fb121",
   "metadata": {},
   "outputs": [
    {
     "data": {
      "text/plain": [
       "array([[2, 3, 4],\n",
       "       [5, 1, 2]])"
      ]
     },
     "execution_count": 26,
     "metadata": {},
     "output_type": "execute_result"
    }
   ],
   "source": [
    "d = np.array([[1, 3, 6, 10], [0, 5, 6, 8]])\n",
    "np.diff(d)"
   ]
  },
  {
   "cell_type": "code",
   "execution_count": 28,
   "id": "6e6e3865",
   "metadata": {},
   "outputs": [
    {
     "data": {
      "text/plain": [
       "array([[-1,  2,  0, -2]])"
      ]
     },
     "execution_count": 28,
     "metadata": {},
     "output_type": "execute_result"
    }
   ],
   "source": [
    "np.diff(d, axis=0)"
   ]
  },
  {
   "cell_type": "markdown",
   "id": "85413e72",
   "metadata": {},
   "source": [
    "# 11. divide"
   ]
  },
  {
   "cell_type": "code",
   "execution_count": null,
   "id": "d9d07927",
   "metadata": {},
   "outputs": [],
   "source": [
    "np.divide"
   ]
  },
  {
   "cell_type": "code",
   "execution_count": 111,
   "id": "b93f108e",
   "metadata": {
    "scrolled": true
   },
   "outputs": [
    {
     "data": {
      "text/plain": [
       "array([0, 1, 2, 3, 4])"
      ]
     },
     "execution_count": 111,
     "metadata": {},
     "output_type": "execute_result"
    }
   ],
   "source": [
    "x = np.arange(5)\n",
    "x"
   ]
  },
  {
   "cell_type": "code",
   "execution_count": 112,
   "id": "30a09406",
   "metadata": {},
   "outputs": [
    {
     "data": {
      "text/plain": [
       "array([0.  , 0.25, 0.5 , 0.75, 1.  ])"
      ]
     },
     "execution_count": 112,
     "metadata": {},
     "output_type": "execute_result"
    }
   ],
   "source": [
    "np.true_divide(x, 4)"
   ]
  },
  {
   "cell_type": "markdown",
   "id": "53182575",
   "metadata": {},
   "source": [
    "# 12. eye"
   ]
  },
  {
   "cell_type": "code",
   "execution_count": null,
   "id": "0458824c",
   "metadata": {},
   "outputs": [],
   "source": [
    "# np.eye\n",
    "# Return a 2-D array with ones on the diagonal and zeros elsewhere."
   ]
  },
  {
   "cell_type": "code",
   "execution_count": 114,
   "id": "fc16344f",
   "metadata": {},
   "outputs": [
    {
     "data": {
      "text/plain": [
       "array([[1, 0],\n",
       "       [0, 1]])"
      ]
     },
     "execution_count": 114,
     "metadata": {},
     "output_type": "execute_result"
    }
   ],
   "source": [
    "np.eye(2, dtype=int)"
   ]
  },
  {
   "cell_type": "code",
   "execution_count": 115,
   "id": "fb59b059",
   "metadata": {},
   "outputs": [
    {
     "data": {
      "text/plain": [
       "array([[0., 1., 0.],\n",
       "       [0., 0., 1.],\n",
       "       [0., 0., 0.]])"
      ]
     },
     "execution_count": 115,
     "metadata": {},
     "output_type": "execute_result"
    }
   ],
   "source": [
    "np.eye(3, k=1)\n"
   ]
  },
  {
   "cell_type": "markdown",
   "id": "0c453945",
   "metadata": {},
   "source": [
    "# 13. greater_equal"
   ]
  },
  {
   "cell_type": "code",
   "execution_count": 117,
   "id": "ecfd4410",
   "metadata": {},
   "outputs": [
    {
     "data": {
      "text/plain": [
       "array([ True,  True, False])"
      ]
     },
     "execution_count": 117,
     "metadata": {},
     "output_type": "execute_result"
    }
   ],
   "source": [
    "np.greater_equal([4, 2, 1], [2, 2, 2])\n"
   ]
  },
  {
   "cell_type": "code",
   "execution_count": 119,
   "id": "f8223ff3",
   "metadata": {},
   "outputs": [
    {
     "data": {
      "text/plain": [
       "array([ True,  True, False])"
      ]
     },
     "execution_count": 119,
     "metadata": {},
     "output_type": "execute_result"
    }
   ],
   "source": [
    "#The ``>=`` operator can be used as a shorthand for ``np.greater_equal``on ndarrays.\n",
    "\n",
    "a = np.array([4, 2, 1])\n",
    "b = np.array([2, 2, 2])\n",
    "a >= b"
   ]
  },
  {
   "cell_type": "markdown",
   "id": "8d88299a",
   "metadata": {},
   "source": [
    "# 14. insert"
   ]
  },
  {
   "cell_type": "code",
   "execution_count": null,
   "id": "ca6005fc",
   "metadata": {},
   "outputs": [],
   "source": [
    "# np.insert\n",
    "# Insert values along the given axis before the given indices."
   ]
  },
  {
   "cell_type": "code",
   "execution_count": 120,
   "id": "40e7cd1f",
   "metadata": {},
   "outputs": [
    {
     "data": {
      "text/plain": [
       "array([[1, 1],\n",
       "       [2, 2],\n",
       "       [3, 3]])"
      ]
     },
     "execution_count": 120,
     "metadata": {},
     "output_type": "execute_result"
    }
   ],
   "source": [
    "a = np.array([[1, 1], [2, 2], [3, 3]])\n",
    "a"
   ]
  },
  {
   "cell_type": "code",
   "execution_count": 121,
   "id": "667d935a",
   "metadata": {},
   "outputs": [
    {
     "data": {
      "text/plain": [
       "array([1, 5, 1, 2, 2, 3, 3])"
      ]
     },
     "execution_count": 121,
     "metadata": {},
     "output_type": "execute_result"
    }
   ],
   "source": [
    "np.insert(a, 1, 5)"
   ]
  },
  {
   "cell_type": "code",
   "execution_count": 122,
   "id": "71772741",
   "metadata": {
    "scrolled": true
   },
   "outputs": [
    {
     "data": {
      "text/plain": [
       "array([[1, 5, 1],\n",
       "       [2, 5, 2],\n",
       "       [3, 5, 3]])"
      ]
     },
     "execution_count": 122,
     "metadata": {},
     "output_type": "execute_result"
    }
   ],
   "source": [
    "np.insert(a, 1, 5, axis=1)"
   ]
  },
  {
   "cell_type": "markdown",
   "id": "4a2ba9c9",
   "metadata": {},
   "source": [
    "# 15. matrix"
   ]
  },
  {
   "cell_type": "code",
   "execution_count": 134,
   "id": "839bd1ee",
   "metadata": {},
   "outputs": [
    {
     "data": {
      "text/plain": [
       "matrix([[1, 2],\n",
       "        [3, 4],\n",
       "        [5, 6]])"
      ]
     },
     "execution_count": 134,
     "metadata": {},
     "output_type": "execute_result"
    }
   ],
   "source": [
    "a = np.matrix('1 2; 3 4; 5 6')\n",
    "a"
   ]
  },
  {
   "cell_type": "code",
   "execution_count": 135,
   "id": "981bd865",
   "metadata": {
    "scrolled": true
   },
   "outputs": [
    {
     "data": {
      "text/plain": [
       "matrix([[1, 2],\n",
       "        [3, 4],\n",
       "        [7, 8]])"
      ]
     },
     "execution_count": 135,
     "metadata": {},
     "output_type": "execute_result"
    }
   ],
   "source": [
    "np.matrix([[1, 2], [3, 4], [7,8]])"
   ]
  },
  {
   "cell_type": "markdown",
   "id": "c800494e",
   "metadata": {},
   "source": [
    "# 16. product"
   ]
  },
  {
   "cell_type": "code",
   "execution_count": 136,
   "id": "0a359657",
   "metadata": {},
   "outputs": [
    {
     "data": {
      "text/plain": [
       "120"
      ]
     },
     "execution_count": 136,
     "metadata": {},
     "output_type": "execute_result"
    }
   ],
   "source": [
    "a = (1,2,3,4,5)\n",
    "np.product(a)"
   ]
  },
  {
   "cell_type": "markdown",
   "id": "d3636d3c",
   "metadata": {},
   "source": [
    "# 17.  random"
   ]
  },
  {
   "cell_type": "code",
   "execution_count": null,
   "id": "257da3a1",
   "metadata": {},
   "outputs": [],
   "source": [
    "#np.random"
   ]
  },
  {
   "cell_type": "code",
   "execution_count": 7,
   "id": "7517227d",
   "metadata": {
    "scrolled": true
   },
   "outputs": [
    {
     "name": "stdout",
     "output_type": "stream",
     "text": [
      "0.6503422878965929\n"
     ]
    }
   ],
   "source": [
    "import random\n",
    "num = random.randbom()\n",
    "print(num)"
   ]
  },
  {
   "cell_type": "code",
   "execution_count": 11,
   "id": "95da9bc1",
   "metadata": {},
   "outputs": [
    {
     "name": "stdout",
     "output_type": "stream",
     "text": [
      "45\n"
     ]
    }
   ],
   "source": [
    "num = random.randrange(10, 50, 5)\n",
    "print(num)"
   ]
  },
  {
   "cell_type": "markdown",
   "id": "f9551cd4",
   "metadata": {},
   "source": [
    "# 18. resize"
   ]
  },
  {
   "cell_type": "code",
   "execution_count": null,
   "id": "7a75f30c",
   "metadata": {},
   "outputs": [],
   "source": [
    "# np.resize\n",
    "# Return a new array with the specified shape."
   ]
  },
  {
   "cell_type": "code",
   "execution_count": null,
   "id": "1e75d390",
   "metadata": {},
   "outputs": [],
   "source": []
  },
  {
   "cell_type": "markdown",
   "id": "e530fd2d",
   "metadata": {},
   "source": [
    "# 19. substract"
   ]
  },
  {
   "cell_type": "code",
   "execution_count": 138,
   "id": "b25a8cc8",
   "metadata": {},
   "outputs": [
    {
     "data": {
      "text/plain": [
       "-3.0"
      ]
     },
     "execution_count": 138,
     "metadata": {},
     "output_type": "execute_result"
    }
   ],
   "source": [
    "np.subtract(1.0, 4.0)"
   ]
  },
  {
   "cell_type": "code",
   "execution_count": 140,
   "id": "f0b1caff",
   "metadata": {},
   "outputs": [
    {
     "data": {
      "text/plain": [
       "array([[0., 0., 0.],\n",
       "       [3., 3., 3.],\n",
       "       [6., 6., 6.]])"
      ]
     },
     "execution_count": 140,
     "metadata": {},
     "output_type": "execute_result"
    }
   ],
   "source": [
    "x1 = np.arange(9.0).reshape((3, 3))\n",
    "x2 = np.arange(3.0)\n",
    "np.subtract(x1, x2)"
   ]
  },
  {
   "cell_type": "code",
   "execution_count": 143,
   "id": "38755471",
   "metadata": {},
   "outputs": [
    {
     "data": {
      "text/plain": [
       "array([[0., 0., 0.],\n",
       "       [3., 3., 3.],\n",
       "       [6., 6., 6.]])"
      ]
     },
     "execution_count": 143,
     "metadata": {},
     "output_type": "execute_result"
    }
   ],
   "source": [
    "#The ``-`` operator can be used as a shorthand for ``np.subtract`` on ndarrays.\n",
    "\n",
    "x1 = np.arange(9.0).reshape((3, 3))\n",
    "x2 = np.arange(3.0)\n",
    "x1 - x2"
   ]
  },
  {
   "cell_type": "markdown",
   "id": "a0f84dcf",
   "metadata": {},
   "source": [
    "# 20. zeros"
   ]
  },
  {
   "cell_type": "code",
   "execution_count": null,
   "id": "c81e636f",
   "metadata": {},
   "outputs": [],
   "source": [
    "np.zeros\n",
    "zeros(shape, dtype=float, order='C', *, like=None)\n",
    "\n",
    "Return a new array of given shape and type, filled with zeros."
   ]
  },
  {
   "cell_type": "code",
   "execution_count": 145,
   "id": "2a6ff7a4",
   "metadata": {},
   "outputs": [
    {
     "data": {
      "text/plain": [
       "array([0., 0., 0., 0.])"
      ]
     },
     "execution_count": 145,
     "metadata": {},
     "output_type": "execute_result"
    }
   ],
   "source": [
    "np.zeros(4)"
   ]
  },
  {
   "cell_type": "code",
   "execution_count": 149,
   "id": "25a5264d",
   "metadata": {
    "scrolled": true
   },
   "outputs": [
    {
     "data": {
      "text/plain": [
       "array([[0.],\n",
       "       [0.]])"
      ]
     },
     "execution_count": 149,
     "metadata": {},
     "output_type": "execute_result"
    }
   ],
   "source": [
    "np.zeros((2, 1))"
   ]
  },
  {
   "cell_type": "code",
   "execution_count": 152,
   "id": "259e8e00",
   "metadata": {},
   "outputs": [
    {
     "data": {
      "text/plain": [
       "array([[[0., 0., 0.],\n",
       "        [0., 0., 0.]],\n",
       "\n",
       "       [[0., 0., 0.],\n",
       "        [0., 0., 0.]]])"
      ]
     },
     "execution_count": 152,
     "metadata": {},
     "output_type": "execute_result"
    }
   ],
   "source": [
    "t = (2,2,3)\n",
    "np.zeros(t)"
   ]
  },
  {
   "cell_type": "code",
   "execution_count": null,
   "id": "89827965",
   "metadata": {},
   "outputs": [],
   "source": [
    "#(20)\n",
    "np."
   ]
  },
  {
   "cell_type": "markdown",
   "id": "f378dbcf",
   "metadata": {},
   "source": [
    "# PANDAS FUNCTIONS"
   ]
  },
  {
   "cell_type": "markdown",
   "id": "3ef5313e",
   "metadata": {},
   "source": [
    "# 1. array"
   ]
  },
  {
   "cell_type": "code",
   "execution_count": 30,
   "id": "0efbbc37",
   "metadata": {
    "scrolled": true
   },
   "outputs": [
    {
     "data": {
      "text/plain": [
       "<IntegerArray>\n",
       "[1, 2, 3, 4, 5]\n",
       "Length: 5, dtype: Int64"
      ]
     },
     "execution_count": 30,
     "metadata": {},
     "output_type": "execute_result"
    }
   ],
   "source": [
    "pd.array([1,2,3,4,5])"
   ]
  },
  {
   "cell_type": "markdown",
   "id": "200fb53d",
   "metadata": {},
   "source": [
    "# 2. date_range \n"
   ]
  },
  {
   "cell_type": "code",
   "execution_count": null,
   "id": "6a16437b",
   "metadata": {},
   "outputs": [],
   "source": [
    "# This function returns a fixed frequency datetimeindex"
   ]
  },
  {
   "cell_type": "code",
   "execution_count": 31,
   "id": "b66b10f2",
   "metadata": {
    "scrolled": true
   },
   "outputs": [
    {
     "data": {
      "text/plain": [
       "DatetimeIndex(['2018-01-01', '2018-01-02', '2018-01-03', '2018-01-04',\n",
       "               '2018-01-05', '2018-01-06', '2018-01-07', '2018-01-08'],\n",
       "              dtype='datetime64[ns]', freq='D')"
      ]
     },
     "execution_count": 31,
     "metadata": {},
     "output_type": "execute_result"
    }
   ],
   "source": [
    "pd.date_range(start='1/1/2018', end='1/08/2018')"
   ]
  },
  {
   "cell_type": "markdown",
   "id": "a51e7eba",
   "metadata": {},
   "source": [
    "# 3. concat"
   ]
  },
  {
   "cell_type": "code",
   "execution_count": 33,
   "id": "e6785f83",
   "metadata": {},
   "outputs": [
    {
     "data": {
      "text/plain": [
       "0    a\n",
       "1    b\n",
       "0    c\n",
       "1    d\n",
       "dtype: object"
      ]
     },
     "execution_count": 33,
     "metadata": {},
     "output_type": "execute_result"
    }
   ],
   "source": [
    "#Combine two ``Series``.\n",
    "\n",
    "a1 = pd.Series(['a', 'b'])\n",
    "a2 = pd.Series(['c', 'd'])\n",
    "pd.concat([a1, a2])\n"
   ]
  },
  {
   "cell_type": "markdown",
   "id": "fa67d44a",
   "metadata": {},
   "source": [
    "# 4. crosstab"
   ]
  },
  {
   "cell_type": "code",
   "execution_count": null,
   "id": "1a75faf7",
   "metadata": {},
   "outputs": [],
   "source": [
    ">>>Compute a simple cross tabulation of two (or more) factors. By default\n",
    "computes a frequency table of the factors unless an array of values and an\n",
    "aggregation function are passed."
   ]
  },
  {
   "cell_type": "code",
   "execution_count": 35,
   "id": "b4589158",
   "metadata": {},
   "outputs": [
    {
     "data": {
      "text/html": [
       "<div>\n",
       "<style scoped>\n",
       "    .dataframe tbody tr th:only-of-type {\n",
       "        vertical-align: middle;\n",
       "    }\n",
       "\n",
       "    .dataframe tbody tr th {\n",
       "        vertical-align: top;\n",
       "    }\n",
       "\n",
       "    .dataframe thead tr th {\n",
       "        text-align: left;\n",
       "    }\n",
       "\n",
       "    .dataframe thead tr:last-of-type th {\n",
       "        text-align: right;\n",
       "    }\n",
       "</style>\n",
       "<table border=\"1\" class=\"dataframe\">\n",
       "  <thead>\n",
       "    <tr>\n",
       "      <th>b</th>\n",
       "      <th colspan=\"2\" halign=\"left\">one</th>\n",
       "      <th colspan=\"2\" halign=\"left\">two</th>\n",
       "    </tr>\n",
       "    <tr>\n",
       "      <th>c</th>\n",
       "      <th>dull</th>\n",
       "      <th>shiny</th>\n",
       "      <th>dull</th>\n",
       "      <th>shiny</th>\n",
       "    </tr>\n",
       "    <tr>\n",
       "      <th>a</th>\n",
       "      <th></th>\n",
       "      <th></th>\n",
       "      <th></th>\n",
       "      <th></th>\n",
       "    </tr>\n",
       "  </thead>\n",
       "  <tbody>\n",
       "    <tr>\n",
       "      <th>bar</th>\n",
       "      <td>1</td>\n",
       "      <td>2</td>\n",
       "      <td>1</td>\n",
       "      <td>0</td>\n",
       "    </tr>\n",
       "    <tr>\n",
       "      <th>foo</th>\n",
       "      <td>2</td>\n",
       "      <td>2</td>\n",
       "      <td>1</td>\n",
       "      <td>2</td>\n",
       "    </tr>\n",
       "  </tbody>\n",
       "</table>\n",
       "</div>"
      ],
      "text/plain": [
       "b    one        two      \n",
       "c   dull shiny dull shiny\n",
       "a                        \n",
       "bar    1     2    1     0\n",
       "foo    2     2    1     2"
      ]
     },
     "execution_count": 35,
     "metadata": {},
     "output_type": "execute_result"
    }
   ],
   "source": [
    ">>> a = np.array([\"foo\", \"foo\", \"foo\", \"foo\", \"bar\", \"bar\",\n",
    "...               \"bar\", \"bar\", \"foo\", \"foo\", \"foo\"], dtype=object)\n",
    ">>> b = np.array([\"one\", \"one\", \"one\", \"two\", \"one\", \"one\",\n",
    "...               \"one\", \"two\", \"two\", \"two\", \"one\"], dtype=object)\n",
    ">>> c = np.array([\"dull\", \"dull\", \"shiny\", \"dull\", \"dull\", \"shiny\",\n",
    "...               \"shiny\", \"dull\", \"shiny\", \"shiny\", \"shiny\"],\n",
    "...              dtype=object)\n",
    ">>> pd.crosstab(a, [b, c], rownames=['a'], colnames=['b', 'c'])\n"
   ]
  },
  {
   "cell_type": "code",
   "execution_count": null,
   "id": "3edbe283",
   "metadata": {},
   "outputs": [],
   "source": [
    "Here 'c' and 'f' are not represented in the data and will not be\n",
    "shown in the output because dropna is True by default. Set\n",
    "dropna=False to preserve categories with no data.\n",
    "\n",
    ">>> foo = pd.Categorical(['a', 'b'], categories=['a', 'b', 'c'])\n",
    ">>> bar = pd.Categorical(['d', 'e'], categories=['d', 'e', 'f'])\n",
    ">>> pd.crosstab(foo, bar)\n",
    "col_0  d  e\n",
    "row_0\n",
    "a      1  0\n",
    "b      0  1\n",
    ">>> pd.crosstab(foo, bar, dropna=False)\n",
    "col_0  d  e  f\n",
    "row_0\n",
    "a      1  0  0\n",
    "b      0  1  0\n",
    "c      0  0  0"
   ]
  },
  {
   "cell_type": "markdown",
   "id": "67dd652e",
   "metadata": {},
   "source": [
    "# 5. cut"
   ]
  },
  {
   "cell_type": "code",
   "execution_count": 38,
   "id": "f316ae3f",
   "metadata": {},
   "outputs": [
    {
     "data": {
      "text/plain": [
       "[(0.994, 3.0], (5.0, 7.0], (3.0, 5.0], (3.0, 5.0], (5.0, 7.0], (0.994, 3.0]]\n",
       "Categories (3, interval[float64, right]): [(0.994, 3.0] < (3.0, 5.0] < (5.0, 7.0]]"
      ]
     },
     "execution_count": 38,
     "metadata": {},
     "output_type": "execute_result"
    }
   ],
   "source": [
    "#Discretize into three equal-sized bins.\n",
    "\n",
    "pd.cut(np.array([1, 7, 5, 4, 6, 3]), 3)\n"
   ]
  },
  {
   "cell_type": "code",
   "execution_count": 48,
   "id": "473e0286",
   "metadata": {},
   "outputs": [
    {
     "data": {
      "text/plain": [
       "([(0.994, 3.0], (5.0, 7.0], (3.0, 5.0], (3.0, 5.0], (5.0, 7.0], (0.994, 3.0]]\n",
       " Categories (3, interval[float64, right]): [(0.994, 3.0] < (3.0, 5.0] < (5.0, 7.0]],\n",
       " array([0.994, 3.   , 5.   , 7.   ]))"
      ]
     },
     "execution_count": 48,
     "metadata": {},
     "output_type": "execute_result"
    }
   ],
   "source": [
    "pd.cut(np.array([1, 7, 5, 4, 6, 3]), 3, retbins=True)"
   ]
  },
  {
   "cell_type": "code",
   "execution_count": 47,
   "id": "667270a5",
   "metadata": {},
   "outputs": [
    {
     "data": {
      "text/plain": [
       "Ellipsis"
      ]
     },
     "execution_count": 47,
     "metadata": {},
     "output_type": "execute_result"
    }
   ],
   "source": [
    "s = pd.Series(np.array([2, 4, 6, 8, 10]),\n",
    "index=['a', 'b', 'c', 'd', 'e'])\n",
    "pd.cut(s, [0, 2, 4, 6, 8, 10], labels=False, retbins=True, right=False)\n",
    "... # doctest: +ELLIPSIS\n"
   ]
  },
  {
   "cell_type": "code",
   "execution_count": 49,
   "id": "e5233974",
   "metadata": {
    "scrolled": true
   },
   "outputs": [
    {
     "data": {
      "text/plain": [
       "a    (1.992, 4.667]\n",
       "b    (1.992, 4.667]\n",
       "c    (4.667, 7.333]\n",
       "d     (7.333, 10.0]\n",
       "e     (7.333, 10.0]\n",
       "dtype: category\n",
       "Categories (3, interval[float64, right]): [(1.992, 4.667] < (4.667, 7.333] < (7.333, 10.0]]"
      ]
     },
     "execution_count": 49,
     "metadata": {},
     "output_type": "execute_result"
    }
   ],
   "source": [
    "s = pd.Series(np.array([2, 4, 6, 8, 10]),\n",
    "index=['a', 'b', 'c', 'd', 'e'])\n",
    "pd.cut(s, 3)"
   ]
  },
  {
   "cell_type": "markdown",
   "id": "4c4fddff",
   "metadata": {},
   "source": [
    "# 6. eval"
   ]
  },
  {
   "cell_type": "code",
   "execution_count": 50,
   "id": "241b4e13",
   "metadata": {},
   "outputs": [
    {
     "data": {
      "text/html": [
       "<div>\n",
       "<style scoped>\n",
       "    .dataframe tbody tr th:only-of-type {\n",
       "        vertical-align: middle;\n",
       "    }\n",
       "\n",
       "    .dataframe tbody tr th {\n",
       "        vertical-align: top;\n",
       "    }\n",
       "\n",
       "    .dataframe thead th {\n",
       "        text-align: right;\n",
       "    }\n",
       "</style>\n",
       "<table border=\"1\" class=\"dataframe\">\n",
       "  <thead>\n",
       "    <tr style=\"text-align: right;\">\n",
       "      <th></th>\n",
       "      <th>animal</th>\n",
       "      <th>age</th>\n",
       "    </tr>\n",
       "  </thead>\n",
       "  <tbody>\n",
       "    <tr>\n",
       "      <th>0</th>\n",
       "      <td>dog</td>\n",
       "      <td>10</td>\n",
       "    </tr>\n",
       "    <tr>\n",
       "      <th>1</th>\n",
       "      <td>pig</td>\n",
       "      <td>20</td>\n",
       "    </tr>\n",
       "  </tbody>\n",
       "</table>\n",
       "</div>"
      ],
      "text/plain": [
       "  animal  age\n",
       "0    dog   10\n",
       "1    pig   20"
      ]
     },
     "execution_count": 50,
     "metadata": {},
     "output_type": "execute_result"
    }
   ],
   "source": [
    "pd.eval\n",
    "df = pd.DataFrame({\"animal\": [\"dog\", \"pig\"], \"age\": [10, 20]})\n",
    "df"
   ]
  },
  {
   "cell_type": "code",
   "execution_count": 52,
   "id": "caa508f3",
   "metadata": {},
   "outputs": [
    {
     "data": {
      "text/html": [
       "<div>\n",
       "<style scoped>\n",
       "    .dataframe tbody tr th:only-of-type {\n",
       "        vertical-align: middle;\n",
       "    }\n",
       "\n",
       "    .dataframe tbody tr th {\n",
       "        vertical-align: top;\n",
       "    }\n",
       "\n",
       "    .dataframe thead th {\n",
       "        text-align: right;\n",
       "    }\n",
       "</style>\n",
       "<table border=\"1\" class=\"dataframe\">\n",
       "  <thead>\n",
       "    <tr style=\"text-align: right;\">\n",
       "      <th></th>\n",
       "      <th>animal</th>\n",
       "      <th>age</th>\n",
       "      <th>double_age</th>\n",
       "    </tr>\n",
       "  </thead>\n",
       "  <tbody>\n",
       "    <tr>\n",
       "      <th>0</th>\n",
       "      <td>dog</td>\n",
       "      <td>10</td>\n",
       "      <td>20</td>\n",
       "    </tr>\n",
       "    <tr>\n",
       "      <th>1</th>\n",
       "      <td>pig</td>\n",
       "      <td>20</td>\n",
       "      <td>40</td>\n",
       "    </tr>\n",
       "  </tbody>\n",
       "</table>\n",
       "</div>"
      ],
      "text/plain": [
       "  animal  age  double_age\n",
       "0    dog   10          20\n",
       "1    pig   20          40"
      ]
     },
     "execution_count": 52,
     "metadata": {},
     "output_type": "execute_result"
    }
   ],
   "source": [
    "#We can add a new column using ``pd.eval``:\n",
    "\n",
    "pd.eval(\"double_age = df.age * 2\", target=df)"
   ]
  },
  {
   "cell_type": "markdown",
   "id": "7223ce8f",
   "metadata": {},
   "source": [
    "# 7. factorise"
   ]
  },
  {
   "cell_type": "code",
   "execution_count": 53,
   "id": "0b9a9fda",
   "metadata": {},
   "outputs": [
    {
     "data": {
      "text/plain": [
       "array([0, 0, 1, 2, 0], dtype=int64)"
      ]
     },
     "execution_count": 53,
     "metadata": {},
     "output_type": "execute_result"
    }
   ],
   "source": [
    "#pd.factorize\n",
    "codes, uniques = pd.factorize(['b', 'b', 'a', 'c', 'b'])\n",
    "codes"
   ]
  },
  {
   "cell_type": "code",
   "execution_count": 54,
   "id": "eaa58ca6",
   "metadata": {
    "scrolled": true
   },
   "outputs": [
    {
     "data": {
      "text/plain": [
       "array([0, 1, 1, 1, 2, 3, 0], dtype=int64)"
      ]
     },
     "execution_count": 54,
     "metadata": {},
     "output_type": "execute_result"
    }
   ],
   "source": [
    "codes, uniques = pd.factorize(['a', 'b', 'b', 'b', 'd', 'f', 'a'])\n",
    "codes"
   ]
  },
  {
   "cell_type": "code",
   "execution_count": 58,
   "id": "2ba83af8",
   "metadata": {},
   "outputs": [
    {
     "data": {
      "text/plain": [
       "array(['a', 'b', 'd', 'f'], dtype=object)"
      ]
     },
     "execution_count": 58,
     "metadata": {},
     "output_type": "execute_result"
    }
   ],
   "source": [
    "codes, uniques = pd.factorize(['a', 'b', 'b', 'b', 'd', 'f', 'a'], sort = True)\n",
    "codes\n",
    "uniques"
   ]
  },
  {
   "cell_type": "markdown",
   "id": "fad3b0a0",
   "metadata": {},
   "source": [
    "# 8. get_dummies"
   ]
  },
  {
   "cell_type": "code",
   "execution_count": 60,
   "id": "af70a694",
   "metadata": {},
   "outputs": [
    {
     "data": {
      "text/html": [
       "<div>\n",
       "<style scoped>\n",
       "    .dataframe tbody tr th:only-of-type {\n",
       "        vertical-align: middle;\n",
       "    }\n",
       "\n",
       "    .dataframe tbody tr th {\n",
       "        vertical-align: top;\n",
       "    }\n",
       "\n",
       "    .dataframe thead th {\n",
       "        text-align: right;\n",
       "    }\n",
       "</style>\n",
       "<table border=\"1\" class=\"dataframe\">\n",
       "  <thead>\n",
       "    <tr style=\"text-align: right;\">\n",
       "      <th></th>\n",
       "      <th>a</th>\n",
       "      <th>b</th>\n",
       "      <th>c</th>\n",
       "      <th>d</th>\n",
       "      <th>e</th>\n",
       "      <th>f</th>\n",
       "    </tr>\n",
       "  </thead>\n",
       "  <tbody>\n",
       "    <tr>\n",
       "      <th>0</th>\n",
       "      <td>1</td>\n",
       "      <td>0</td>\n",
       "      <td>0</td>\n",
       "      <td>0</td>\n",
       "      <td>0</td>\n",
       "      <td>0</td>\n",
       "    </tr>\n",
       "    <tr>\n",
       "      <th>1</th>\n",
       "      <td>0</td>\n",
       "      <td>1</td>\n",
       "      <td>0</td>\n",
       "      <td>0</td>\n",
       "      <td>0</td>\n",
       "      <td>0</td>\n",
       "    </tr>\n",
       "    <tr>\n",
       "      <th>2</th>\n",
       "      <td>0</td>\n",
       "      <td>0</td>\n",
       "      <td>1</td>\n",
       "      <td>0</td>\n",
       "      <td>0</td>\n",
       "      <td>0</td>\n",
       "    </tr>\n",
       "    <tr>\n",
       "      <th>3</th>\n",
       "      <td>0</td>\n",
       "      <td>0</td>\n",
       "      <td>0</td>\n",
       "      <td>1</td>\n",
       "      <td>0</td>\n",
       "      <td>0</td>\n",
       "    </tr>\n",
       "    <tr>\n",
       "      <th>4</th>\n",
       "      <td>0</td>\n",
       "      <td>0</td>\n",
       "      <td>0</td>\n",
       "      <td>0</td>\n",
       "      <td>1</td>\n",
       "      <td>0</td>\n",
       "    </tr>\n",
       "    <tr>\n",
       "      <th>5</th>\n",
       "      <td>0</td>\n",
       "      <td>0</td>\n",
       "      <td>0</td>\n",
       "      <td>0</td>\n",
       "      <td>0</td>\n",
       "      <td>1</td>\n",
       "    </tr>\n",
       "  </tbody>\n",
       "</table>\n",
       "</div>"
      ],
      "text/plain": [
       "   a  b  c  d  e  f\n",
       "0  1  0  0  0  0  0\n",
       "1  0  1  0  0  0  0\n",
       "2  0  0  1  0  0  0\n",
       "3  0  0  0  1  0  0\n",
       "4  0  0  0  0  1  0\n",
       "5  0  0  0  0  0  1"
      ]
     },
     "execution_count": 60,
     "metadata": {},
     "output_type": "execute_result"
    }
   ],
   "source": [
    "s = pd.Series(list('abcdef'))\n",
    "pd.get_dummies(s)"
   ]
  },
  {
   "cell_type": "code",
   "execution_count": 69,
   "id": "d42c3139",
   "metadata": {
    "scrolled": true
   },
   "outputs": [
    {
     "data": {
      "text/html": [
       "<div>\n",
       "<style scoped>\n",
       "    .dataframe tbody tr th:only-of-type {\n",
       "        vertical-align: middle;\n",
       "    }\n",
       "\n",
       "    .dataframe tbody tr th {\n",
       "        vertical-align: top;\n",
       "    }\n",
       "\n",
       "    .dataframe thead th {\n",
       "        text-align: right;\n",
       "    }\n",
       "</style>\n",
       "<table border=\"1\" class=\"dataframe\">\n",
       "  <thead>\n",
       "    <tr style=\"text-align: right;\">\n",
       "      <th></th>\n",
       "      <th>a</th>\n",
       "      <th>b</th>\n",
       "    </tr>\n",
       "  </thead>\n",
       "  <tbody>\n",
       "    <tr>\n",
       "      <th>0</th>\n",
       "      <td>1</td>\n",
       "      <td>0</td>\n",
       "    </tr>\n",
       "    <tr>\n",
       "      <th>1</th>\n",
       "      <td>0</td>\n",
       "      <td>1</td>\n",
       "    </tr>\n",
       "    <tr>\n",
       "      <th>2</th>\n",
       "      <td>0</td>\n",
       "      <td>0</td>\n",
       "    </tr>\n",
       "  </tbody>\n",
       "</table>\n",
       "</div>"
      ],
      "text/plain": [
       "   a  b\n",
       "0  1  0\n",
       "1  0  1\n",
       "2  0  0"
      ]
     },
     "execution_count": 69,
     "metadata": {},
     "output_type": "execute_result"
    }
   ],
   "source": [
    "s1 = ['a','b', np.nan]\n",
    "pd.get_dummies(s1)"
   ]
  },
  {
   "cell_type": "code",
   "execution_count": 67,
   "id": "2f469aa2",
   "metadata": {
    "scrolled": true
   },
   "outputs": [
    {
     "data": {
      "text/html": [
       "<div>\n",
       "<style scoped>\n",
       "    .dataframe tbody tr th:only-of-type {\n",
       "        vertical-align: middle;\n",
       "    }\n",
       "\n",
       "    .dataframe tbody tr th {\n",
       "        vertical-align: top;\n",
       "    }\n",
       "\n",
       "    .dataframe thead th {\n",
       "        text-align: right;\n",
       "    }\n",
       "</style>\n",
       "<table border=\"1\" class=\"dataframe\">\n",
       "  <thead>\n",
       "    <tr style=\"text-align: right;\">\n",
       "      <th></th>\n",
       "      <th>a</th>\n",
       "      <th>b</th>\n",
       "      <th>NaN</th>\n",
       "    </tr>\n",
       "  </thead>\n",
       "  <tbody>\n",
       "    <tr>\n",
       "      <th>0</th>\n",
       "      <td>1</td>\n",
       "      <td>0</td>\n",
       "      <td>0</td>\n",
       "    </tr>\n",
       "    <tr>\n",
       "      <th>1</th>\n",
       "      <td>0</td>\n",
       "      <td>1</td>\n",
       "      <td>0</td>\n",
       "    </tr>\n",
       "    <tr>\n",
       "      <th>2</th>\n",
       "      <td>0</td>\n",
       "      <td>0</td>\n",
       "      <td>1</td>\n",
       "    </tr>\n",
       "  </tbody>\n",
       "</table>\n",
       "</div>"
      ],
      "text/plain": [
       "   a  b  NaN\n",
       "0  1  0    0\n",
       "1  0  1    0\n",
       "2  0  0    1"
      ]
     },
     "execution_count": 67,
     "metadata": {},
     "output_type": "execute_result"
    }
   ],
   "source": [
    "pd.get_dummies(s1, dummy_na=True)"
   ]
  },
  {
   "cell_type": "code",
   "execution_count": null,
   "id": "6c420620",
   "metadata": {},
   "outputs": [],
   "source": [
    "df = pd.DataFrame({'A': ['a', 'b', 'a'], 'B': ['b', 'a', 'c'],'C': [1, 2, 3]})"
   ]
  },
  {
   "cell_type": "code",
   "execution_count": null,
   "id": "d9cb9d6a",
   "metadata": {},
   "outputs": [],
   "source": [
    "pd.get_dummies(pd.Series(list('abcaa')))"
   ]
  },
  {
   "cell_type": "code",
   "execution_count": null,
   "id": "35d8b1ce",
   "metadata": {},
   "outputs": [],
   "source": [
    "pd.get_dummies(pd.Series(list('abcaa')), drop_first=True)"
   ]
  },
  {
   "cell_type": "code",
   "execution_count": null,
   "id": "6b878460",
   "metadata": {},
   "outputs": [],
   "source": [
    "pd.get_dummies(df, prefix=['col1', 'col2'])"
   ]
  },
  {
   "cell_type": "code",
   "execution_count": null,
   "id": "6b0af2e9",
   "metadata": {},
   "outputs": [],
   "source": [
    "pd.get_dummies(pd.Series(list('abc')), dtype=float)"
   ]
  },
  {
   "cell_type": "markdown",
   "id": "1768f2c3",
   "metadata": {},
   "source": [
    "# 9. isna"
   ]
  },
  {
   "cell_type": "code",
   "execution_count": null,
   "id": "8b29afa4",
   "metadata": {},
   "outputs": [],
   "source": [
    "# Detect missing values for an array-like object\n",
    "# argument including strings result in a scalar boolean (output) eg"
   ]
  },
  {
   "cell_type": "code",
   "execution_count": 72,
   "id": "81444c90",
   "metadata": {
    "scrolled": true
   },
   "outputs": [
    {
     "data": {
      "text/plain": [
       "False"
      ]
     },
     "execution_count": 72,
     "metadata": {},
     "output_type": "execute_result"
    }
   ],
   "source": [
    "pd.isna('dog')"
   ]
  },
  {
   "cell_type": "code",
   "execution_count": 75,
   "id": "dd2b9b09",
   "metadata": {
    "scrolled": true
   },
   "outputs": [
    {
     "data": {
      "text/plain": [
       "array([[ 1., nan,  3.],\n",
       "       [ 4.,  5., nan]])"
      ]
     },
     "execution_count": 75,
     "metadata": {},
     "output_type": "execute_result"
    }
   ],
   "source": [
    "array = np.array([[1, np.nan, 3], [4, 5, np.nan]])\n",
    "array"
   ]
  },
  {
   "cell_type": "code",
   "execution_count": 76,
   "id": "b0d5c99a",
   "metadata": {
    "scrolled": true
   },
   "outputs": [
    {
     "data": {
      "text/plain": [
       "array([[False,  True, False],\n",
       "       [False, False,  True]])"
      ]
     },
     "execution_count": 76,
     "metadata": {},
     "output_type": "execute_result"
    }
   ],
   "source": [
    "pd.isna(array)"
   ]
  },
  {
   "cell_type": "markdown",
   "id": "d4059366",
   "metadata": {},
   "source": [
    "# 10. isnull"
   ]
  },
  {
   "cell_type": "code",
   "execution_count": null,
   "id": "46535adb",
   "metadata": {},
   "outputs": [],
   "source": [
    "Detect missing values for an array-like object.\n",
    "\n",
    "This function takes a scalar or array-like object and indicates\n",
    "whether values are missing (``NaN`` in numeric arrays, ``None`` or ``NaN``\n",
    "in object arrays, ``NaT`` in datetimelike).\n",
    "pd.isnull"
   ]
  },
  {
   "cell_type": "markdown",
   "id": "cf8739eb",
   "metadata": {},
   "source": [
    "# 11. infer_freq"
   ]
  },
  {
   "cell_type": "code",
   "execution_count": 79,
   "id": "3123b68e",
   "metadata": {},
   "outputs": [
    {
     "data": {
      "text/plain": [
       "'D'"
      ]
     },
     "execution_count": 79,
     "metadata": {},
     "output_type": "execute_result"
    }
   ],
   "source": [
    "pd.infer_freq\n",
    "idx = pd.date_range(start='2020/12/01', end='2020/12/30', periods=30)\n",
    "pd.infer_freq(idx)"
   ]
  },
  {
   "cell_type": "code",
   "execution_count": null,
   "id": "6cfde9b0",
   "metadata": {},
   "outputs": [],
   "source": []
  },
  {
   "cell_type": "markdown",
   "id": "4b2403b4",
   "metadata": {},
   "source": [
    "# 12.  json_normalise"
   ]
  },
  {
   "cell_type": "code",
   "execution_count": 80,
   "id": "71888749",
   "metadata": {
    "scrolled": true
   },
   "outputs": [
    {
     "data": {
      "text/html": [
       "<div>\n",
       "<style scoped>\n",
       "    .dataframe tbody tr th:only-of-type {\n",
       "        vertical-align: middle;\n",
       "    }\n",
       "\n",
       "    .dataframe tbody tr th {\n",
       "        vertical-align: top;\n",
       "    }\n",
       "\n",
       "    .dataframe thead th {\n",
       "        text-align: right;\n",
       "    }\n",
       "</style>\n",
       "<table border=\"1\" class=\"dataframe\">\n",
       "  <thead>\n",
       "    <tr style=\"text-align: right;\">\n",
       "      <th></th>\n",
       "      <th>id</th>\n",
       "      <th>name.first</th>\n",
       "      <th>name.last</th>\n",
       "      <th>name.given</th>\n",
       "      <th>name.family</th>\n",
       "      <th>name</th>\n",
       "    </tr>\n",
       "  </thead>\n",
       "  <tbody>\n",
       "    <tr>\n",
       "      <th>0</th>\n",
       "      <td>1.0</td>\n",
       "      <td>Coleen</td>\n",
       "      <td>Volk</td>\n",
       "      <td>NaN</td>\n",
       "      <td>NaN</td>\n",
       "      <td>NaN</td>\n",
       "    </tr>\n",
       "    <tr>\n",
       "      <th>1</th>\n",
       "      <td>NaN</td>\n",
       "      <td>NaN</td>\n",
       "      <td>NaN</td>\n",
       "      <td>Mark</td>\n",
       "      <td>Regner</td>\n",
       "      <td>NaN</td>\n",
       "    </tr>\n",
       "    <tr>\n",
       "      <th>2</th>\n",
       "      <td>2.0</td>\n",
       "      <td>NaN</td>\n",
       "      <td>NaN</td>\n",
       "      <td>NaN</td>\n",
       "      <td>NaN</td>\n",
       "      <td>Faye Raker</td>\n",
       "    </tr>\n",
       "  </tbody>\n",
       "</table>\n",
       "</div>"
      ],
      "text/plain": [
       "    id name.first name.last name.given name.family        name\n",
       "0  1.0     Coleen      Volk        NaN         NaN         NaN\n",
       "1  NaN        NaN       NaN       Mark      Regner         NaN\n",
       "2  2.0        NaN       NaN        NaN         NaN  Faye Raker"
      ]
     },
     "execution_count": 80,
     "metadata": {},
     "output_type": "execute_result"
    }
   ],
   "source": [
    "data = [{\"id\": 1, \"name\": {\"first\": \"Coleen\", \"last\": \"Volk\"}},\n",
    "        {\"name\": {\"given\": \"Mark\", \"family\": \"Regner\"}},\n",
    "        {\"id\": 2, \"name\": \"Faye Raker\"},]\n",
    "pd.json_normalize(data)"
   ]
  },
  {
   "cell_type": "code",
   "execution_count": 90,
   "id": "1e44b688",
   "metadata": {
    "scrolled": false
   },
   "outputs": [
    {
     "data": {
      "text/html": [
       "<div>\n",
       "<style scoped>\n",
       "    .dataframe tbody tr th:only-of-type {\n",
       "        vertical-align: middle;\n",
       "    }\n",
       "\n",
       "    .dataframe tbody tr th {\n",
       "        vertical-align: top;\n",
       "    }\n",
       "\n",
       "    .dataframe thead th {\n",
       "        text-align: right;\n",
       "    }\n",
       "</style>\n",
       "<table border=\"1\" class=\"dataframe\">\n",
       "  <thead>\n",
       "    <tr style=\"text-align: right;\">\n",
       "      <th></th>\n",
       "      <th>id</th>\n",
       "      <th>name</th>\n",
       "      <th>fitness.height</th>\n",
       "      <th>fitness.weight</th>\n",
       "    </tr>\n",
       "  </thead>\n",
       "  <tbody>\n",
       "    <tr>\n",
       "      <th>0</th>\n",
       "      <td>1.0</td>\n",
       "      <td>Cole Volk</td>\n",
       "      <td>130</td>\n",
       "      <td>60</td>\n",
       "    </tr>\n",
       "    <tr>\n",
       "      <th>1</th>\n",
       "      <td>NaN</td>\n",
       "      <td>Mark Reg</td>\n",
       "      <td>130</td>\n",
       "      <td>60</td>\n",
       "    </tr>\n",
       "    <tr>\n",
       "      <th>2</th>\n",
       "      <td>2.0</td>\n",
       "      <td>Faye Raker</td>\n",
       "      <td>130</td>\n",
       "      <td>60</td>\n",
       "    </tr>\n",
       "  </tbody>\n",
       "</table>\n",
       "</div>"
      ],
      "text/plain": [
       "    id        name  fitness.height  fitness.weight\n",
       "0  1.0   Cole Volk             130              60\n",
       "1  NaN    Mark Reg             130              60\n",
       "2  2.0  Faye Raker             130              60"
      ]
     },
     "execution_count": 90,
     "metadata": {},
     "output_type": "execute_result"
    }
   ],
   "source": [
    "data = [\n",
    "...     {\n",
    "...         \"id\": 1,\n",
    "...         \"name\": \"Cole Volk\",\n",
    "...         \"fitness\": {\"height\": 130, \"weight\": 60},\n",
    "...     },\n",
    "...     {\"name\": \"Mark Reg\", \"fitness\": {\"height\": 130, \"weight\": 60}},\n",
    "...     {\n",
    "...         \"id\": 2,\n",
    "...         \"name\": \"Faye Raker\",\n",
    "...         \"fitness\": {\"height\": 130, \"weight\": 60},\n",
    "...     },\n",
    "... ]\n",
    ">>> pd.json_normalize(data, max_level=1)\n"
   ]
  },
  {
   "cell_type": "code",
   "execution_count": 91,
   "id": "2d60327e",
   "metadata": {
    "scrolled": true
   },
   "outputs": [
    {
     "data": {
      "text/html": [
       "<div>\n",
       "<style scoped>\n",
       "    .dataframe tbody tr th:only-of-type {\n",
       "        vertical-align: middle;\n",
       "    }\n",
       "\n",
       "    .dataframe tbody tr th {\n",
       "        vertical-align: top;\n",
       "    }\n",
       "\n",
       "    .dataframe thead th {\n",
       "        text-align: right;\n",
       "    }\n",
       "</style>\n",
       "<table border=\"1\" class=\"dataframe\">\n",
       "  <thead>\n",
       "    <tr style=\"text-align: right;\">\n",
       "      <th></th>\n",
       "      <th>name</th>\n",
       "      <th>population</th>\n",
       "      <th>state</th>\n",
       "      <th>shortname</th>\n",
       "      <th>info.governor</th>\n",
       "    </tr>\n",
       "  </thead>\n",
       "  <tbody>\n",
       "    <tr>\n",
       "      <th>0</th>\n",
       "      <td>Dade</td>\n",
       "      <td>12345</td>\n",
       "      <td>Florida</td>\n",
       "      <td>FL</td>\n",
       "      <td>Rick Scott</td>\n",
       "    </tr>\n",
       "    <tr>\n",
       "      <th>1</th>\n",
       "      <td>Broward</td>\n",
       "      <td>40000</td>\n",
       "      <td>Florida</td>\n",
       "      <td>FL</td>\n",
       "      <td>Rick Scott</td>\n",
       "    </tr>\n",
       "    <tr>\n",
       "      <th>2</th>\n",
       "      <td>Palm Beach</td>\n",
       "      <td>60000</td>\n",
       "      <td>Florida</td>\n",
       "      <td>FL</td>\n",
       "      <td>Rick Scott</td>\n",
       "    </tr>\n",
       "    <tr>\n",
       "      <th>3</th>\n",
       "      <td>Summit</td>\n",
       "      <td>1234</td>\n",
       "      <td>Ohio</td>\n",
       "      <td>OH</td>\n",
       "      <td>John Kasich</td>\n",
       "    </tr>\n",
       "    <tr>\n",
       "      <th>4</th>\n",
       "      <td>Cuyahoga</td>\n",
       "      <td>1337</td>\n",
       "      <td>Ohio</td>\n",
       "      <td>OH</td>\n",
       "      <td>John Kasich</td>\n",
       "    </tr>\n",
       "  </tbody>\n",
       "</table>\n",
       "</div>"
      ],
      "text/plain": [
       "         name  population    state shortname info.governor\n",
       "0        Dade       12345  Florida        FL    Rick Scott\n",
       "1     Broward       40000  Florida        FL    Rick Scott\n",
       "2  Palm Beach       60000  Florida        FL    Rick Scott\n",
       "3      Summit        1234     Ohio        OH   John Kasich\n",
       "4    Cuyahoga        1337     Ohio        OH   John Kasich"
      ]
     },
     "execution_count": 91,
     "metadata": {},
     "output_type": "execute_result"
    }
   ],
   "source": [
    "data = [\n",
    "     {\n",
    "         \"state\": \"Florida\",\n",
    "         \"shortname\": \"FL\",\n",
    "         \"info\": {\"governor\": \"Rick Scott\"},\n",
    "         \"counties\": [\n",
    "             {\"name\": \"Dade\", \"population\": 12345},\n",
    "             {\"name\": \"Broward\", \"population\": 40000},\n",
    "             {\"name\": \"Palm Beach\", \"population\": 60000},\n",
    "         ],\n",
    "     },\n",
    "     {\n",
    "         \"state\": \"Ohio\",\n",
    "         \"shortname\": \"OH\",\n",
    "         \"info\": {\"governor\": \"John Kasich\"},\n",
    "         \"counties\": [\n",
    "             {\"name\": \"Summit\", \"population\": 1234},\n",
    "             {\"name\": \"Cuyahoga\", \"population\": 1337},\n",
    "         ],\n",
    "     },\n",
    " ]\n",
    " result = pd.json_normalize(\n",
    "     data, \"counties\", [\"state\", \"shortname\", [\"info\", \"governor\"]]\n",
    " )\n",
    " result"
   ]
  },
  {
   "cell_type": "markdown",
   "id": "35c8c0a1",
   "metadata": {},
   "source": [
    "# 13. merge"
   ]
  },
  {
   "cell_type": "code",
   "execution_count": 95,
   "id": "65d5dd9e",
   "metadata": {},
   "outputs": [
    {
     "data": {
      "text/html": [
       "<div>\n",
       "<style scoped>\n",
       "    .dataframe tbody tr th:only-of-type {\n",
       "        vertical-align: middle;\n",
       "    }\n",
       "\n",
       "    .dataframe tbody tr th {\n",
       "        vertical-align: top;\n",
       "    }\n",
       "\n",
       "    .dataframe thead th {\n",
       "        text-align: right;\n",
       "    }\n",
       "</style>\n",
       "<table border=\"1\" class=\"dataframe\">\n",
       "  <thead>\n",
       "    <tr style=\"text-align: right;\">\n",
       "      <th></th>\n",
       "      <th>lkey</th>\n",
       "      <th>value</th>\n",
       "    </tr>\n",
       "  </thead>\n",
       "  <tbody>\n",
       "    <tr>\n",
       "      <th>0</th>\n",
       "      <td>foo</td>\n",
       "      <td>1</td>\n",
       "    </tr>\n",
       "    <tr>\n",
       "      <th>1</th>\n",
       "      <td>bar</td>\n",
       "      <td>2</td>\n",
       "    </tr>\n",
       "    <tr>\n",
       "      <th>2</th>\n",
       "      <td>baz</td>\n",
       "      <td>3</td>\n",
       "    </tr>\n",
       "    <tr>\n",
       "      <th>3</th>\n",
       "      <td>foo</td>\n",
       "      <td>5</td>\n",
       "    </tr>\n",
       "  </tbody>\n",
       "</table>\n",
       "</div>"
      ],
      "text/plain": [
       "  lkey  value\n",
       "0  foo      1\n",
       "1  bar      2\n",
       "2  baz      3\n",
       "3  foo      5"
      ]
     },
     "execution_count": 95,
     "metadata": {},
     "output_type": "execute_result"
    }
   ],
   "source": [
    "df1 = pd.DataFrame({'lkey': ['foo', 'bar', 'baz', 'foo'],\n",
    "                     'value': [1, 2, 3, 5]})\n",
    "df1"
   ]
  },
  {
   "cell_type": "code",
   "execution_count": 94,
   "id": "0aee2a7d",
   "metadata": {
    "scrolled": true
   },
   "outputs": [
    {
     "data": {
      "text/html": [
       "<div>\n",
       "<style scoped>\n",
       "    .dataframe tbody tr th:only-of-type {\n",
       "        vertical-align: middle;\n",
       "    }\n",
       "\n",
       "    .dataframe tbody tr th {\n",
       "        vertical-align: top;\n",
       "    }\n",
       "\n",
       "    .dataframe thead th {\n",
       "        text-align: right;\n",
       "    }\n",
       "</style>\n",
       "<table border=\"1\" class=\"dataframe\">\n",
       "  <thead>\n",
       "    <tr style=\"text-align: right;\">\n",
       "      <th></th>\n",
       "      <th>rkey</th>\n",
       "      <th>value</th>\n",
       "    </tr>\n",
       "  </thead>\n",
       "  <tbody>\n",
       "    <tr>\n",
       "      <th>0</th>\n",
       "      <td>foo</td>\n",
       "      <td>5</td>\n",
       "    </tr>\n",
       "    <tr>\n",
       "      <th>1</th>\n",
       "      <td>bar</td>\n",
       "      <td>6</td>\n",
       "    </tr>\n",
       "    <tr>\n",
       "      <th>2</th>\n",
       "      <td>baz</td>\n",
       "      <td>7</td>\n",
       "    </tr>\n",
       "    <tr>\n",
       "      <th>3</th>\n",
       "      <td>foo</td>\n",
       "      <td>8</td>\n",
       "    </tr>\n",
       "  </tbody>\n",
       "</table>\n",
       "</div>"
      ],
      "text/plain": [
       "  rkey  value\n",
       "0  foo      5\n",
       "1  bar      6\n",
       "2  baz      7\n",
       "3  foo      8"
      ]
     },
     "execution_count": 94,
     "metadata": {},
     "output_type": "execute_result"
    }
   ],
   "source": [
    "df2 = pd.DataFrame({'rkey': ['foo', 'bar', 'baz', 'foo'],\n",
    "...                     'value': [5, 6, 7, 8]})\n",
    "df2"
   ]
  },
  {
   "cell_type": "markdown",
   "id": "5caea42a",
   "metadata": {},
   "source": [
    "# 14. to_numeric"
   ]
  },
  {
   "cell_type": "code",
   "execution_count": null,
   "id": "ff75ef22",
   "metadata": {},
   "outputs": [],
   "source": [
    "#converts argument to a numeric type\n",
    "\n",
    "#Take separate series and convert to numeric, coercing when told to"
   ]
  },
  {
   "cell_type": "code",
   "execution_count": 102,
   "id": "5c403236",
   "metadata": {},
   "outputs": [
    {
     "data": {
      "text/plain": [
       "0    1.0\n",
       "1    2.0\n",
       "2   -3.0\n",
       "dtype: float64"
      ]
     },
     "execution_count": 102,
     "metadata": {},
     "output_type": "execute_result"
    }
   ],
   "source": [
    "pd.to_numeric\n",
    "s = pd.Series(['1.0', '2', -3])\n",
    "pd.to_numeric(s)"
   ]
  },
  {
   "cell_type": "markdown",
   "id": "b8abb7d3",
   "metadata": {},
   "source": [
    "# 15.  to_datetime"
   ]
  },
  {
   "cell_type": "code",
   "execution_count": 4,
   "id": "d51335ae",
   "metadata": {},
   "outputs": [
    {
     "ename": "SyntaxError",
     "evalue": "invalid syntax (953985465.py, line 1)",
     "output_type": "error",
     "traceback": [
      "\u001b[1;36m  Input \u001b[1;32mIn [4]\u001b[1;36m\u001b[0m\n\u001b[1;33m    Convert argument to datetime.\u001b[0m\n\u001b[1;37m            ^\u001b[0m\n\u001b[1;31mSyntaxError\u001b[0m\u001b[1;31m:\u001b[0m invalid syntax\n"
     ]
    }
   ],
   "source": [
    "Convert argument to datetime.\n",
    "\n",
    "This function converts a scalar, array-like, :class:`Series` or\n",
    ":class:`DataFrame`/dict-like to a pandas datetime object.\n",
    "\n",
    "        pd.to_datetime\n"
   ]
  },
  {
   "cell_type": "code",
   "execution_count": 105,
   "id": "68d8a57c",
   "metadata": {
    "scrolled": true
   },
   "outputs": [
    {
     "data": {
      "text/plain": [
       "0   2015-02-04\n",
       "1   2016-03-05\n",
       "dtype: datetime64[ns]"
      ]
     },
     "execution_count": 105,
     "metadata": {},
     "output_type": "execute_result"
    }
   ],
   "source": [
    "df = pd.DataFrame({'year': [2015, 2016], 'month': [2, 3], 'day': [4, 5]})\n",
    "pd.to_datetime(df)"
   ]
  },
  {
   "cell_type": "markdown",
   "id": "e10f959c",
   "metadata": {},
   "source": [
    "# 16. unique"
   ]
  },
  {
   "cell_type": "code",
   "execution_count": null,
   "id": "be27c0fd",
   "metadata": {},
   "outputs": [],
   "source": [
    "Return unique values based on a hash table.\n",
    "\n",
    "Uniques are returned in order of appearance. This does NOT sort.\n",
    "\n",
    "Significantly faster than numpy.unique for long enough sequences.\n",
    "Includes NA values."
   ]
  },
  {
   "cell_type": "code",
   "execution_count": 106,
   "id": "d552c298",
   "metadata": {},
   "outputs": [
    {
     "data": {
      "text/plain": [
       "array(['b', 'a', 'c'], dtype=object)"
      ]
     },
     "execution_count": 106,
     "metadata": {},
     "output_type": "execute_result"
    }
   ],
   "source": [
    "pd.unique(list(\"baabc\"))"
   ]
  },
  {
   "cell_type": "code",
   "execution_count": 107,
   "id": "cb5733b4",
   "metadata": {},
   "outputs": [
    {
     "data": {
      "text/plain": [
       "array([('a', 'b'), ('b', 'a'), ('a', 'c')], dtype=object)"
      ]
     },
     "execution_count": 107,
     "metadata": {},
     "output_type": "execute_result"
    }
   ],
   "source": [
    "pd.unique([(\"a\", \"b\"), (\"b\", \"a\"), (\"a\", \"c\"), (\"b\", \"a\")])"
   ]
  },
  {
   "cell_type": "code",
   "execution_count": 108,
   "id": "60158ee2",
   "metadata": {},
   "outputs": [
    {
     "data": {
      "text/plain": [
       "array([2, 1], dtype=int64)"
      ]
     },
     "execution_count": 108,
     "metadata": {},
     "output_type": "execute_result"
    }
   ],
   "source": [
    "pd.unique(pd.Series([2] + [1] * 5))"
   ]
  },
  {
   "cell_type": "markdown",
   "id": "9fe9405d",
   "metadata": {},
   "source": [
    "# 17. value_counts"
   ]
  },
  {
   "cell_type": "code",
   "execution_count": null,
   "id": "acfebf5f",
   "metadata": {},
   "outputs": [],
   "source": [
    "pd.value_counts\n",
    "Compute a histogram of the counts of non-null values."
   ]
  },
  {
   "cell_type": "code",
   "execution_count": null,
   "id": "5a35b23f",
   "metadata": {},
   "outputs": [],
   "source": [
    "FIND EXAMPLE ON YOUTUBE FOR VALUE COUNTS"
   ]
  },
  {
   "cell_type": "code",
   "execution_count": null,
   "id": "46bb5960",
   "metadata": {},
   "outputs": [],
   "source": []
  },
  {
   "cell_type": "markdown",
   "id": "d87cc677",
   "metadata": {},
   "source": [
    "# 18. wide_to_long"
   ]
  },
  {
   "cell_type": "code",
   "execution_count": null,
   "id": "c00d1048",
   "metadata": {},
   "outputs": [],
   "source": [
    "pd.wide_to_long\n",
    "Unpivot a DataFrame from wide to long format."
   ]
  },
  {
   "cell_type": "code",
   "execution_count": null,
   "id": "b742aa56",
   "metadata": {},
   "outputs": [],
   "source": [
    "7"
   ]
  },
  {
   "cell_type": "code",
   "execution_count": null,
   "id": "e756d958",
   "metadata": {},
   "outputs": [],
   "source": []
  },
  {
   "cell_type": "markdown",
   "id": "5bd10eee",
   "metadata": {},
   "source": [
    "# 19. LOC"
   ]
  },
  {
   "cell_type": "code",
   "execution_count": null,
   "id": "bbd136f9",
   "metadata": {},
   "outputs": [],
   "source": []
  },
  {
   "cell_type": "code",
   "execution_count": null,
   "id": "239073a1",
   "metadata": {},
   "outputs": [],
   "source": []
  },
  {
   "cell_type": "markdown",
   "id": "0c057bca",
   "metadata": {},
   "source": [
    "# 20. ILOC"
   ]
  },
  {
   "cell_type": "code",
   "execution_count": null,
   "id": "e693fdf7",
   "metadata": {},
   "outputs": [],
   "source": []
  }
 ],
 "metadata": {
  "kernelspec": {
   "display_name": "Python 3 (ipykernel)",
   "language": "python",
   "name": "python3"
  },
  "language_info": {
   "codemirror_mode": {
    "name": "ipython",
    "version": 3
   },
   "file_extension": ".py",
   "mimetype": "text/x-python",
   "name": "python",
   "nbconvert_exporter": "python",
   "pygments_lexer": "ipython3",
   "version": "3.9.12"
  }
 },
 "nbformat": 4,
 "nbformat_minor": 5
}
